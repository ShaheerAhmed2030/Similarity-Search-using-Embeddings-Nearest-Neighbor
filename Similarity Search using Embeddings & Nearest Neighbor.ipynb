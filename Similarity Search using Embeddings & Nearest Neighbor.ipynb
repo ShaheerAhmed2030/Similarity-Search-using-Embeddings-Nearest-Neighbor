{
 "cells": [
  {
   "cell_type": "markdown",
   "id": "d1a722bc",
   "metadata": {},
   "source": [
    "# Similarity Search using Embeddings & Nearest Neighbor\n",
    "\n",
    "#### Problem Statement: \n",
    "You've been tasked with developing a recommendation system for a grocery delivery service based on user preferences. The goal is to suggest items that are similar to those already chosen by the user. However, traditional methods like keyword matching or simple collaborative filtering may not capture nuanced similarities between items.\n",
    "\n",
    "#### Solution:\n",
    "We propose an embedding based system utilizing embeddings to represent each word. After that, a K-nearest neighbor search algorithm was implemented to efficiently find items that are closest to a given query item in the embedding space."
   ]
  },
  {
   "cell_type": "markdown",
   "id": "d267512d",
   "metadata": {},
   "source": [
    "## Importing Modules"
   ]
  },
  {
   "cell_type": "code",
   "execution_count": 30,
   "id": "d9a54a89",
   "metadata": {},
   "outputs": [],
   "source": [
    "from sentence_transformers import SentenceTransformer\n",
    "import pandas as pd\n",
    "import numpy as np\n",
    "from sklearn.neighbors import NearestNeighbors"
   ]
  },
  {
   "cell_type": "markdown",
   "id": "c3f57b9d",
   "metadata": {},
   "source": [
    "## Loading Data\n",
    "\n",
    "We start by loading a data and creating a dataframe of our dataset."
   ]
  },
  {
   "cell_type": "code",
   "execution_count": 3,
   "id": "421158fe",
   "metadata": {},
   "outputs": [],
   "source": [
    "words = [\"red\",\"potatoes\",\"soda\",\"cheese\",\"water\",\"blue\",\"crispy\",\"hamburger\",\"coffee\",\"green\",\"milk\",\"la croix\",\"yellow\"\n",
    ",\"chocolate\",\"french fries\",\"latte\",\"cake\",\"brown\",\"cheeseburger\",\"espresso\",\"cheesecake\",\"black\",\"mocha\",\"fizzy\",\"carbon\"\n",
    ",\"banana\",\"sunshine\",\"orange carrot\",\"sun\",\"hay\",\"cookies\",\"fish\"]"
   ]
  },
  {
   "cell_type": "code",
   "execution_count": 56,
   "id": "e959fc24",
   "metadata": {},
   "outputs": [
    {
     "data": {
      "text/html": [
       "<div>\n",
       "<style scoped>\n",
       "    .dataframe tbody tr th:only-of-type {\n",
       "        vertical-align: middle;\n",
       "    }\n",
       "\n",
       "    .dataframe tbody tr th {\n",
       "        vertical-align: top;\n",
       "    }\n",
       "\n",
       "    .dataframe thead th {\n",
       "        text-align: right;\n",
       "    }\n",
       "</style>\n",
       "<table border=\"1\" class=\"dataframe\">\n",
       "  <thead>\n",
       "    <tr style=\"text-align: right;\">\n",
       "      <th></th>\n",
       "      <th>Word</th>\n",
       "    </tr>\n",
       "  </thead>\n",
       "  <tbody>\n",
       "    <tr>\n",
       "      <th>0</th>\n",
       "      <td>red</td>\n",
       "    </tr>\n",
       "    <tr>\n",
       "      <th>1</th>\n",
       "      <td>potatoes</td>\n",
       "    </tr>\n",
       "    <tr>\n",
       "      <th>2</th>\n",
       "      <td>soda</td>\n",
       "    </tr>\n",
       "    <tr>\n",
       "      <th>3</th>\n",
       "      <td>cheese</td>\n",
       "    </tr>\n",
       "    <tr>\n",
       "      <th>4</th>\n",
       "      <td>water</td>\n",
       "    </tr>\n",
       "    <tr>\n",
       "      <th>5</th>\n",
       "      <td>blue</td>\n",
       "    </tr>\n",
       "    <tr>\n",
       "      <th>6</th>\n",
       "      <td>crispy</td>\n",
       "    </tr>\n",
       "    <tr>\n",
       "      <th>7</th>\n",
       "      <td>hamburger</td>\n",
       "    </tr>\n",
       "    <tr>\n",
       "      <th>8</th>\n",
       "      <td>coffee</td>\n",
       "    </tr>\n",
       "    <tr>\n",
       "      <th>9</th>\n",
       "      <td>green</td>\n",
       "    </tr>\n",
       "    <tr>\n",
       "      <th>10</th>\n",
       "      <td>milk</td>\n",
       "    </tr>\n",
       "    <tr>\n",
       "      <th>11</th>\n",
       "      <td>la croix</td>\n",
       "    </tr>\n",
       "    <tr>\n",
       "      <th>12</th>\n",
       "      <td>yellow</td>\n",
       "    </tr>\n",
       "    <tr>\n",
       "      <th>13</th>\n",
       "      <td>chocolate</td>\n",
       "    </tr>\n",
       "    <tr>\n",
       "      <th>14</th>\n",
       "      <td>french fries</td>\n",
       "    </tr>\n",
       "    <tr>\n",
       "      <th>15</th>\n",
       "      <td>latte</td>\n",
       "    </tr>\n",
       "    <tr>\n",
       "      <th>16</th>\n",
       "      <td>cake</td>\n",
       "    </tr>\n",
       "    <tr>\n",
       "      <th>17</th>\n",
       "      <td>brown</td>\n",
       "    </tr>\n",
       "    <tr>\n",
       "      <th>18</th>\n",
       "      <td>cheeseburger</td>\n",
       "    </tr>\n",
       "    <tr>\n",
       "      <th>19</th>\n",
       "      <td>espresso</td>\n",
       "    </tr>\n",
       "    <tr>\n",
       "      <th>20</th>\n",
       "      <td>cheesecake</td>\n",
       "    </tr>\n",
       "    <tr>\n",
       "      <th>21</th>\n",
       "      <td>black</td>\n",
       "    </tr>\n",
       "    <tr>\n",
       "      <th>22</th>\n",
       "      <td>mocha</td>\n",
       "    </tr>\n",
       "    <tr>\n",
       "      <th>23</th>\n",
       "      <td>fizzy</td>\n",
       "    </tr>\n",
       "    <tr>\n",
       "      <th>24</th>\n",
       "      <td>carbon</td>\n",
       "    </tr>\n",
       "    <tr>\n",
       "      <th>25</th>\n",
       "      <td>banana</td>\n",
       "    </tr>\n",
       "    <tr>\n",
       "      <th>26</th>\n",
       "      <td>sunshine</td>\n",
       "    </tr>\n",
       "    <tr>\n",
       "      <th>27</th>\n",
       "      <td>orange carrot</td>\n",
       "    </tr>\n",
       "    <tr>\n",
       "      <th>28</th>\n",
       "      <td>sun</td>\n",
       "    </tr>\n",
       "    <tr>\n",
       "      <th>29</th>\n",
       "      <td>hay</td>\n",
       "    </tr>\n",
       "    <tr>\n",
       "      <th>30</th>\n",
       "      <td>cookies</td>\n",
       "    </tr>\n",
       "    <tr>\n",
       "      <th>31</th>\n",
       "      <td>fish</td>\n",
       "    </tr>\n",
       "  </tbody>\n",
       "</table>\n",
       "</div>"
      ],
      "text/plain": [
       "             Word\n",
       "0             red\n",
       "1        potatoes\n",
       "2            soda\n",
       "3          cheese\n",
       "4           water\n",
       "5            blue\n",
       "6          crispy\n",
       "7       hamburger\n",
       "8          coffee\n",
       "9           green\n",
       "10           milk\n",
       "11       la croix\n",
       "12         yellow\n",
       "13      chocolate\n",
       "14   french fries\n",
       "15          latte\n",
       "16           cake\n",
       "17          brown\n",
       "18   cheeseburger\n",
       "19       espresso\n",
       "20     cheesecake\n",
       "21          black\n",
       "22          mocha\n",
       "23          fizzy\n",
       "24         carbon\n",
       "25         banana\n",
       "26       sunshine\n",
       "27  orange carrot\n",
       "28            sun\n",
       "29            hay\n",
       "30        cookies\n",
       "31           fish"
      ]
     },
     "execution_count": 56,
     "metadata": {},
     "output_type": "execute_result"
    }
   ],
   "source": [
    "DF = pd.DataFrame(words,columns = [\"Word\"])\n",
    "DF"
   ]
  },
  {
   "cell_type": "markdown",
   "id": "9d4283fe",
   "metadata": {},
   "source": [
    "## Embedding Model\n",
    "Use pre-trained word embeddings to represent each item in the vocabulary as a dense vector in a high-dimensional space."
   ]
  },
  {
   "cell_type": "code",
   "execution_count": 5,
   "id": "265c1ad2",
   "metadata": {},
   "outputs": [
    {
     "data": {
      "application/vnd.jupyter.widget-view+json": {
       "model_id": "ab5a2f35ebe84c2595a0e987f263dc03",
       "version_major": 2,
       "version_minor": 0
      },
      "text/plain": [
       "modules.json:   0%|          | 0.00/229 [00:00<?, ?B/s]"
      ]
     },
     "metadata": {},
     "output_type": "display_data"
    },
    {
     "name": "stderr",
     "output_type": "stream",
     "text": [
      "C:\\Users\\ghost\\AppData\\Roaming\\Python\\Python39\\site-packages\\huggingface_hub\\file_download.py:148: UserWarning: `huggingface_hub` cache-system uses symlinks by default to efficiently store duplicated files but your machine does not support them in C:\\Users\\ghost\\.cache\\huggingface\\hub\\models--sentence-transformers--paraphrase-MiniLM-L6-v2. Caching files will still work but in a degraded version that might require more space on your disk. This warning can be disabled by setting the `HF_HUB_DISABLE_SYMLINKS_WARNING` environment variable. For more details, see https://huggingface.co/docs/huggingface_hub/how-to-cache#limitations.\n",
      "To support symlinks on Windows, you either need to activate Developer Mode or to run Python as an administrator. In order to see activate developer mode, see this article: https://docs.microsoft.com/en-us/windows/apps/get-started/enable-your-device-for-development\n",
      "  warnings.warn(message)\n"
     ]
    },
    {
     "data": {
      "application/vnd.jupyter.widget-view+json": {
       "model_id": "11c65c475186477c823234e55ca5b0b8",
       "version_major": 2,
       "version_minor": 0
      },
      "text/plain": [
       "config_sentence_transformers.json:   0%|          | 0.00/122 [00:00<?, ?B/s]"
      ]
     },
     "metadata": {},
     "output_type": "display_data"
    },
    {
     "data": {
      "application/vnd.jupyter.widget-view+json": {
       "model_id": "8fca359da50d4597a2d01ab0fccf7700",
       "version_major": 2,
       "version_minor": 0
      },
      "text/plain": [
       "README.md:   0%|          | 0.00/3.73k [00:00<?, ?B/s]"
      ]
     },
     "metadata": {},
     "output_type": "display_data"
    },
    {
     "data": {
      "application/vnd.jupyter.widget-view+json": {
       "model_id": "2ed5a489326d41ebbccde6207479f478",
       "version_major": 2,
       "version_minor": 0
      },
      "text/plain": [
       "sentence_bert_config.json:   0%|          | 0.00/53.0 [00:00<?, ?B/s]"
      ]
     },
     "metadata": {},
     "output_type": "display_data"
    },
    {
     "data": {
      "application/vnd.jupyter.widget-view+json": {
       "model_id": "529cd971b11a4b79abc290f033c93d9b",
       "version_major": 2,
       "version_minor": 0
      },
      "text/plain": [
       "config.json:   0%|          | 0.00/629 [00:00<?, ?B/s]"
      ]
     },
     "metadata": {},
     "output_type": "display_data"
    },
    {
     "data": {
      "application/vnd.jupyter.widget-view+json": {
       "model_id": "3e1f14a3d0bf44ff8dd5f1a75eb18770",
       "version_major": 2,
       "version_minor": 0
      },
      "text/plain": [
       "model.safetensors:   0%|          | 0.00/90.9M [00:00<?, ?B/s]"
      ]
     },
     "metadata": {},
     "output_type": "display_data"
    },
    {
     "data": {
      "application/vnd.jupyter.widget-view+json": {
       "model_id": "3b4f5e7aeba64084b6a23db0d854681d",
       "version_major": 2,
       "version_minor": 0
      },
      "text/plain": [
       "tokenizer_config.json:   0%|          | 0.00/314 [00:00<?, ?B/s]"
      ]
     },
     "metadata": {},
     "output_type": "display_data"
    },
    {
     "data": {
      "application/vnd.jupyter.widget-view+json": {
       "model_id": "bed0755dddec4b1f9b37418cfae31884",
       "version_major": 2,
       "version_minor": 0
      },
      "text/plain": [
       "vocab.txt:   0%|          | 0.00/232k [00:00<?, ?B/s]"
      ]
     },
     "metadata": {},
     "output_type": "display_data"
    },
    {
     "data": {
      "application/vnd.jupyter.widget-view+json": {
       "model_id": "4c9aee40947f45b496e55ad7be7d3fea",
       "version_major": 2,
       "version_minor": 0
      },
      "text/plain": [
       "tokenizer.json:   0%|          | 0.00/466k [00:00<?, ?B/s]"
      ]
     },
     "metadata": {},
     "output_type": "display_data"
    },
    {
     "data": {
      "application/vnd.jupyter.widget-view+json": {
       "model_id": "5726314bc94848838b59d3c14182fdde",
       "version_major": 2,
       "version_minor": 0
      },
      "text/plain": [
       "special_tokens_map.json:   0%|          | 0.00/112 [00:00<?, ?B/s]"
      ]
     },
     "metadata": {},
     "output_type": "display_data"
    },
    {
     "data": {
      "application/vnd.jupyter.widget-view+json": {
       "model_id": "c1d9f4e4f4084c94836ebbbea18217cb",
       "version_major": 2,
       "version_minor": 0
      },
      "text/plain": [
       "1_Pooling/config.json:   0%|          | 0.00/190 [00:00<?, ?B/s]"
      ]
     },
     "metadata": {},
     "output_type": "display_data"
    }
   ],
   "source": [
    "model = SentenceTransformer('paraphrase-MiniLM-L6-v2')"
   ]
  },
  {
   "cell_type": "markdown",
   "id": "08b98d09",
   "metadata": {},
   "source": [
    "## Create Embeddings\n",
    "Conversion of words into their respective embeddings"
   ]
  },
  {
   "cell_type": "code",
   "execution_count": 20,
   "id": "3926d3c7",
   "metadata": {},
   "outputs": [
    {
     "data": {
      "text/plain": [
       "array([[-0.07723496,  0.12294615, -0.02570257, ..., -0.00323109,\n",
       "        -0.00391515,  0.5210295 ],\n",
       "       [ 0.2620569 , -0.25374994, -0.08988532, ...,  0.34893227,\n",
       "         0.43459976,  0.03882637],\n",
       "       [-0.26256433,  0.10996028, -0.10783651, ...,  0.6241137 ,\n",
       "         0.27782378, -0.20880705],\n",
       "       ...,\n",
       "       [ 0.40209708,  0.56491685,  0.05248033, ..., -0.71106267,\n",
       "         0.47614315, -0.24891067],\n",
       "       [-0.3350797 , -0.13180478, -0.14418049, ..., -0.87842876,\n",
       "         0.24764776,  0.25170773],\n",
       "       [-0.18092024,  0.46646872,  0.2453509 , ...,  0.26894614,\n",
       "         0.6552008 ,  0.5024928 ]], dtype=float32)"
      ]
     },
     "execution_count": 20,
     "metadata": {},
     "output_type": "execute_result"
    }
   ],
   "source": [
    "embeddings = model.encode(words)\n",
    "embeddings"
   ]
  },
  {
   "cell_type": "markdown",
   "id": "252d4192",
   "metadata": {},
   "source": [
    "## Nearest Neighbor for semantic search\n",
    "Implement a K-nearest neighbor search algorithm to efficiently find items that are closest to a given query item in the embedding space."
   ]
  },
  {
   "cell_type": "code",
   "execution_count": 22,
   "id": "a0dac6ca",
   "metadata": {},
   "outputs": [
    {
     "data": {
      "text/plain": [
       "NearestNeighbors(metric='cosine', n_neighbors=2)"
      ]
     },
     "execution_count": 22,
     "metadata": {},
     "output_type": "execute_result"
    }
   ],
   "source": [
    "k = 2\n",
    "KNN = NearestNeighbors(n_neighbors=k, metric='cosine')\n",
    "KNN.fit(embeddings)"
   ]
  },
  {
   "cell_type": "markdown",
   "id": "3a609086",
   "metadata": {},
   "source": [
    "## Querying new word\n",
    "When a user selects an item, retrieve its embedding vector."
   ]
  },
  {
   "cell_type": "code",
   "execution_count": 37,
   "id": "9b44a9b9",
   "metadata": {},
   "outputs": [
    {
     "data": {
      "text/plain": [
       "array([[-2.42375866e-01, -3.23452294e-01, -1.68686420e-01,\n",
       "         2.20599562e-01,  1.35132819e-01, -1.81159172e-02,\n",
       "        -3.56361270e-05, -1.31620288e-01,  1.55606925e-01,\n",
       "        -8.96533132e-01, -6.65159374e-02, -6.79481566e-01,\n",
       "         8.24273303e-02, -4.53334600e-01,  4.17263657e-01,\n",
       "        -2.49839708e-01,  1.18036306e+00, -3.86382639e-01,\n",
       "        -1.63744673e-01, -2.38266259e-01, -1.87594727e-01,\n",
       "        -1.21404573e-01, -2.06091851e-01, -2.71494299e-01,\n",
       "         2.39559889e-01, -4.05560732e-01,  8.19400176e-02,\n",
       "         1.93712443e-01, -4.27181154e-01,  1.02891423e-01,\n",
       "         7.24207640e-01, -1.21013856e+00, -8.05192232e-01,\n",
       "         7.52292573e-02, -4.05502468e-01, -3.22328508e-03,\n",
       "         4.17447448e-01, -5.17934084e-01, -3.92087251e-02,\n",
       "         5.31760752e-01,  5.73495567e-01, -1.97624892e-01,\n",
       "        -6.89657778e-02, -7.78758287e-01, -4.05459791e-01,\n",
       "         5.25453091e-01, -1.13808322e+00,  3.54061276e-01,\n",
       "        -5.34154475e-03, -1.49161875e-01, -8.91737759e-01,\n",
       "         1.22280583e-01,  2.73044586e-01, -4.59416360e-02,\n",
       "         6.57502472e-01,  2.37592876e-01, -1.95781976e-01,\n",
       "         3.20062339e-01, -5.84357500e-01, -6.14851177e-01,\n",
       "        -5.60912341e-02, -1.39313757e-01,  2.37116233e-01,\n",
       "        -3.83202136e-01,  2.10362092e-01, -3.82826388e-01,\n",
       "        -8.35759044e-01,  5.94347894e-01,  3.11044753e-01,\n",
       "        -2.61868566e-01,  6.03371263e-02,  3.80231708e-01,\n",
       "         2.01044843e-01,  4.38688725e-01, -2.31903732e-01,\n",
       "         7.76333094e-01,  1.15318358e-01, -6.73259556e-01,\n",
       "         3.53956550e-01,  6.09561503e-01, -2.74826109e-01,\n",
       "        -2.55845636e-02, -2.94752717e-01,  1.74838211e-02,\n",
       "         2.28504702e-01,  8.08623850e-01,  1.21941790e-02,\n",
       "         1.30273357e-01, -9.15581286e-01, -5.17387807e-01,\n",
       "         3.27361643e-01, -2.83208430e-01,  6.54296279e-01,\n",
       "        -6.89289495e-02,  8.96820307e-01,  3.09266567e-01,\n",
       "        -4.62771088e-01, -7.59956241e-01, -1.48027611e+00,\n",
       "         9.79382634e-01,  2.34437108e-01, -2.91216403e-01,\n",
       "        -2.72123605e-01, -2.98555732e-01,  5.59214294e-01,\n",
       "        -4.80660796e-01, -3.66845995e-01,  1.27024040e-01,\n",
       "         1.31163299e-01, -3.27346861e-01,  4.64966983e-01,\n",
       "        -1.26060575e-01,  2.33435437e-01,  2.11331666e-01,\n",
       "        -2.25212768e-01, -5.65151751e-01, -8.90003890e-02,\n",
       "        -1.92021489e-01, -1.71808735e-01, -5.61696231e-01,\n",
       "         3.80021870e-01,  1.12078652e-01,  5.82487062e-02,\n",
       "        -4.53241765e-01, -4.94105220e-01,  9.63755101e-02,\n",
       "         6.36711955e-01,  3.29923183e-01, -7.80462444e-01,\n",
       "         1.62817314e-01, -8.28419700e-02, -3.04076463e-01,\n",
       "         5.60456693e-01,  3.04850280e-01, -2.51069605e-01,\n",
       "         8.09183866e-02, -3.03064287e-03,  9.65346992e-01,\n",
       "         1.41260587e-02, -3.51405680e-01, -6.32829070e-01,\n",
       "         4.67517138e-01, -2.61104524e-01, -1.04705310e+00,\n",
       "         4.81229782e-01,  4.85715061e-01,  2.96718538e-01,\n",
       "        -2.70099461e-01,  9.34499651e-02,  4.47431743e-01,\n",
       "         4.39580232e-01, -1.60783872e-01, -3.55570987e-02,\n",
       "        -1.17913313e-01, -3.01531374e-01, -5.61508715e-01,\n",
       "         9.72974673e-03,  4.16907817e-01,  5.64607501e-01,\n",
       "        -1.54108748e-01, -4.11538661e-01, -3.22828591e-01,\n",
       "         4.20797229e-01, -2.60828733e-01, -2.26263806e-01,\n",
       "        -3.91973376e-01, -9.32568669e-01, -3.88885997e-02,\n",
       "         5.33969283e-01,  3.74325573e-01, -3.10352921e-01,\n",
       "         6.29973114e-01,  9.21989083e-02,  1.07130408e+00,\n",
       "        -9.20614481e-01,  5.98252006e-02, -2.12435052e-01,\n",
       "         1.82262421e-01,  5.09285152e-01, -6.90721929e-01,\n",
       "         5.69718719e-01,  2.00229093e-01, -2.74535790e-02,\n",
       "        -4.48915750e-01,  3.21531683e-01, -2.63151079e-01,\n",
       "         1.03497624e+00,  4.32641685e-01, -5.56352735e-01,\n",
       "         5.20718932e-01,  2.72380829e-01, -8.35740447e-01,\n",
       "        -4.01838422e-01,  1.81120127e-01,  1.23617545e-01,\n",
       "        -5.51567003e-02, -2.01739326e-01,  3.57365489e-01,\n",
       "         5.55234492e-01, -1.75579712e-01, -5.11587262e-01,\n",
       "        -3.75634819e-01,  9.38259289e-02, -3.29226613e-01,\n",
       "         8.83691192e-01, -4.66140300e-01,  1.86196059e-01,\n",
       "        -8.94128680e-01,  9.59574640e-01, -2.99032629e-01,\n",
       "         3.75548571e-01,  2.70101726e-01, -6.15011811e-01,\n",
       "         4.50167477e-01, -3.80641878e-01, -1.50222391e-01,\n",
       "         2.01547295e-01, -1.51181728e-01, -2.14050412e-01,\n",
       "         9.81402472e-02, -9.52380225e-02,  3.79965246e-01,\n",
       "        -3.15812379e-01, -4.35415387e-01,  1.60447270e-01,\n",
       "        -4.66108322e-01,  1.93068922e-01,  6.35573566e-01,\n",
       "         1.15440452e+00, -3.03586796e-02, -1.43491358e-01,\n",
       "         2.42217198e-01, -2.11471573e-01,  6.87047482e-01,\n",
       "        -1.46991581e-01, -4.93166953e-01,  5.45572996e-01,\n",
       "        -7.01947212e-02,  8.80270362e-01,  1.17873311e+00,\n",
       "        -5.94118953e-01,  3.10188085e-01, -5.18098660e-02,\n",
       "         3.61706525e-01, -7.17071950e-01,  9.94819775e-02,\n",
       "        -3.53362352e-01,  1.10280895e+00, -3.60406518e-01,\n",
       "         4.18067157e-01,  4.88124490e-01, -7.71389157e-02,\n",
       "        -3.19280475e-01, -5.08506477e-01,  5.90573311e-01,\n",
       "        -1.49526298e-01, -3.19173396e-01, -5.69154739e-01,\n",
       "        -2.49873072e-01,  7.14521289e-01,  5.62972724e-01,\n",
       "         1.84275359e-01, -4.31166619e-01, -1.55640915e-01,\n",
       "         6.02375008e-02, -5.73770642e-01, -2.06860751e-01,\n",
       "         6.14416420e-01,  2.72188336e-01,  3.72484028e-02,\n",
       "         2.29622021e-01, -9.13828373e-01, -6.32883191e-01,\n",
       "        -1.68370500e-01, -4.24972922e-01, -3.76258194e-01,\n",
       "         7.00878024e-01,  1.12475419e+00, -2.66943753e-01,\n",
       "         1.43100232e-01, -7.60518685e-02, -5.28423548e-01,\n",
       "        -3.20094258e-01,  3.66940945e-02, -2.13594392e-01,\n",
       "        -1.42445847e-01,  1.51641175e-01,  5.69691360e-01,\n",
       "         7.63259381e-02, -2.12949008e-01,  3.98580939e-01,\n",
       "         3.93180907e-01, -4.85132128e-01, -4.21013862e-01,\n",
       "        -3.73591900e-01,  2.94821620e-01,  7.84150183e-01,\n",
       "         2.04150811e-01,  3.14881265e-01, -2.35647887e-01,\n",
       "        -8.21485400e-01,  1.93065312e-02,  4.90880787e-01,\n",
       "         5.59393108e-01, -5.31380296e-01, -1.00214779e-03,\n",
       "        -8.27615380e-01, -5.83634414e-02,  5.32081649e-02,\n",
       "        -1.41954750e-01,  4.56237316e-01,  5.34316540e-01,\n",
       "         8.75573233e-03,  2.05123991e-01, -4.00684178e-01,\n",
       "        -1.62776113e-01,  2.92937279e-01,  6.46494150e-01,\n",
       "        -2.94114828e-01, -3.68360668e-01,  3.93555999e-01,\n",
       "         1.99554935e-01,  8.07537436e-01,  7.59106204e-02,\n",
       "        -2.67117947e-01, -8.17575455e-02, -4.83318448e-01,\n",
       "         1.81140497e-01,  1.93059266e-01,  7.03165233e-01,\n",
       "        -1.09337002e-01,  4.92311716e-01, -2.95830280e-01,\n",
       "        -1.88082710e-01, -4.70724702e-01,  4.06536102e-01,\n",
       "         2.63707712e-04,  2.46532321e-01,  8.67132396e-02,\n",
       "         2.57169902e-01,  4.51114029e-01,  6.29725337e-01,\n",
       "         9.59772110e-01, -7.21252978e-01,  2.50238359e-01,\n",
       "        -4.32210594e-01,  6.58532381e-02,  4.21709530e-02,\n",
       "         4.94727999e-01, -2.37595476e-02, -2.86190003e-01,\n",
       "         4.24824595e-01, -1.08448736e-01, -3.48352730e-01,\n",
       "         8.31177682e-02,  2.67363340e-01, -3.20604086e-01,\n",
       "         8.54340047e-02,  4.68432665e-01, -6.36458278e-01,\n",
       "        -8.37731436e-02,  1.24443829e-01,  1.25227377e-01,\n",
       "        -8.21310803e-02, -5.67623377e-01,  1.34351879e-01,\n",
       "         1.74334839e-01,  2.42123693e-01, -2.81122148e-01,\n",
       "         6.20474100e-01, -2.94613183e-01, -1.61120847e-01,\n",
       "        -3.34575206e-01,  4.58708704e-01, -1.70875371e-01,\n",
       "        -3.71203899e-01, -1.91570684e-01,  2.93601274e-01,\n",
       "         8.97612423e-02,  2.21785963e-01,  7.70375490e-01,\n",
       "        -7.48943269e-01, -3.12381685e-01,  1.30823898e+00]], dtype=float32)"
      ]
     },
     "execution_count": 37,
     "metadata": {},
     "output_type": "execute_result"
    }
   ],
   "source": [
    "test = \"hotdog\"\n",
    "test_embedding = model.encode(test)\n",
    "test_embedding = test_embedding.reshape((1,-1))\n",
    "test_embedding"
   ]
  },
  {
   "cell_type": "markdown",
   "id": "13f9b506",
   "metadata": {},
   "source": [
    "After generating an embedding vector of the new item, find its nearest neighbors in the embedding space. These nearest neighbors represent items that are most similar to the selected item."
   ]
  },
  {
   "cell_type": "code",
   "execution_count": 58,
   "id": "466fb9cc",
   "metadata": {},
   "outputs": [],
   "source": [
    "neighbours = KNN.kneighbors(test_embedding, k,  return_distance = True)"
   ]
  },
  {
   "cell_type": "code",
   "execution_count": 59,
   "id": "1353883b",
   "metadata": {},
   "outputs": [
    {
     "data": {
      "text/html": [
       "<div>\n",
       "<style scoped>\n",
       "    .dataframe tbody tr th:only-of-type {\n",
       "        vertical-align: middle;\n",
       "    }\n",
       "\n",
       "    .dataframe tbody tr th {\n",
       "        vertical-align: top;\n",
       "    }\n",
       "\n",
       "    .dataframe thead th {\n",
       "        text-align: right;\n",
       "    }\n",
       "</style>\n",
       "<table border=\"1\" class=\"dataframe\">\n",
       "  <thead>\n",
       "    <tr style=\"text-align: right;\">\n",
       "      <th></th>\n",
       "      <th>Word</th>\n",
       "    </tr>\n",
       "  </thead>\n",
       "  <tbody>\n",
       "    <tr>\n",
       "      <th>18</th>\n",
       "      <td>cheeseburger</td>\n",
       "    </tr>\n",
       "    <tr>\n",
       "      <th>7</th>\n",
       "      <td>hamburger</td>\n",
       "    </tr>\n",
       "  </tbody>\n",
       "</table>\n",
       "</div>"
      ],
      "text/plain": [
       "            Word\n",
       "18  cheeseburger\n",
       "7      hamburger"
      ]
     },
     "execution_count": 59,
     "metadata": {},
     "output_type": "execute_result"
    }
   ],
   "source": [
    "DF.iloc[neighbours[1].squeeze()]"
   ]
  }
 ],
 "metadata": {
  "kernelspec": {
   "display_name": "Python 3 (ipykernel)",
   "language": "python",
   "name": "python3"
  },
  "language_info": {
   "codemirror_mode": {
    "name": "ipython",
    "version": 3
   },
   "file_extension": ".py",
   "mimetype": "text/x-python",
   "name": "python",
   "nbconvert_exporter": "python",
   "pygments_lexer": "ipython3",
   "version": "3.9.7"
  }
 },
 "nbformat": 4,
 "nbformat_minor": 5
}
